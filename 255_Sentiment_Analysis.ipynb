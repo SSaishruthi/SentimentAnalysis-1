{
 "cells": [
  {
   "cell_type": "code",
   "execution_count": 2,
   "metadata": {},
   "outputs": [
    {
     "name": "stderr",
     "output_type": "stream",
     "text": [
      "/home/ss/anaconda2/lib/python2.7/site-packages/sklearn/cross_validation.py:44: DeprecationWarning: This module was deprecated in version 0.18 in favor of the model_selection module into which all the refactored classes and functions are moved. Also note that the interface of the new CV iterators are different from that of this module. This module will be removed in 0.20.\n",
      "  \"This module will be removed in 0.20.\", DeprecationWarning)\n"
     ]
    }
   ],
   "source": [
    "import pandas as pd\n",
    "import gzip\n",
    "from sklearn.utils import shuffle\n",
    "from sklearn.cross_validation import train_test_split\n",
    "import numpy as np\n",
    "from textblob import TextBlob\n",
    "import matplotlib.pyplot as plt\n",
    "%matplotlib inline\n",
    "from sklearn import metrics\n",
    "from sklearn.feature_extraction.text import TfidfVectorizer\n",
    "from sklearn.linear_model import LogisticRegression\n",
    "from sklearn.metrics import accuracy_score\n",
    "from sklearn.metrics import precision_score\n",
    "from sklearn.model_selection import ShuffleSplit\n",
    "from sklearn.model_selection import cross_val_score"
   ]
  },
  {
   "cell_type": "code",
   "execution_count": 4,
   "metadata": {
    "collapsed": true
   },
   "outputs": [],
   "source": [
    "def parse(path):\n",
    "  g = gzip.open(path, 'rb')\n",
    "  for l in g:\n",
    "    yield eval(l)\n",
    "\n",
    "def getDF(path):\n",
    "  i = 0\n",
    "  df = {}\n",
    "  for d in parse(path):\n",
    "    df[i] = d\n",
    "    i += 1\n",
    "  return pd.DataFrame.from_dict(df, orient='index')\n",
    "\n",
    "df_video = getDF('Digi_Mus.json.gz')\n",
    "df_video = df_video[0:30000]"
   ]
  },
  {
   "cell_type": "code",
   "execution_count": 5,
   "metadata": {
    "collapsed": true
   },
   "outputs": [],
   "source": [
    "#fill each NA with 0\n",
    "df_video = df_video.fillna(0)"
   ]
  },
  {
   "cell_type": "code",
   "execution_count": 6,
   "metadata": {
    "collapsed": true
   },
   "outputs": [],
   "source": [
    "#getting number of helpful votes out of combination of helpful and overall votes\n",
    "df_video['vote_helpful'] = df_video.helpful.apply(lambda val: val[0])"
   ]
  },
  {
   "cell_type": "code",
   "execution_count": 7,
   "metadata": {
    "collapsed": true
   },
   "outputs": [],
   "source": [
    "#getting number of overall votes out of combination of helpful and overall votes\n",
    "df_video['vote_overall'] = df_video.helpful.apply(lambda val: val[1])"
   ]
  },
  {
   "cell_type": "code",
   "execution_count": 8,
   "metadata": {
    "collapsed": true
   },
   "outputs": [],
   "source": [
    "#helpful percent obtained by diving helpful votes by overall votes\n",
    "df_video['help_percent'] = df_video['vote_helpful']/df_video['vote_overall']"
   ]
  },
  {
   "cell_type": "code",
   "execution_count": 9,
   "metadata": {
    "collapsed": true
   },
   "outputs": [],
   "source": [
    "#if percentage of helpfulness is greater than .75, the review is considered to be helpful\n",
    "df_video['review_helpful'] = np.where((df_video.help_percent > .75), \"Yes\", \"No\")"
   ]
  },
  {
   "cell_type": "code",
   "execution_count": 10,
   "metadata": {},
   "outputs": [
    {
     "data": {
      "text/plain": [
       "(30000, 13)"
      ]
     },
     "execution_count": 10,
     "metadata": {},
     "output_type": "execute_result"
    }
   ],
   "source": [
    "df_video.shape"
   ]
  },
  {
   "cell_type": "code",
   "execution_count": 11,
   "metadata": {
    "collapsed": true
   },
   "outputs": [],
   "source": [
    "#textblob is used to get polarity. Polarity tells sentiment of the sentence. (-) value indicates negative review and (+) value indicate positive review\n",
    "df_video['polarity'] = df_video['reviewText'].apply(lambda val: TextBlob(val).sentiment.polarity)"
   ]
  },
  {
   "cell_type": "code",
   "execution_count": 12,
   "metadata": {
    "collapsed": true
   },
   "outputs": [],
   "source": [
    "df_video['sentiment'] = np.where((df_video.polarity > 0.1), \"Positive\", \"Negative\")"
   ]
  },
  {
   "cell_type": "code",
   "execution_count": 13,
   "metadata": {},
   "outputs": [
    {
     "data": {
      "text/html": [
       "<div>\n",
       "<style>\n",
       "    .dataframe thead tr:only-child th {\n",
       "        text-align: right;\n",
       "    }\n",
       "\n",
       "    .dataframe thead th {\n",
       "        text-align: left;\n",
       "    }\n",
       "\n",
       "    .dataframe tbody tr th {\n",
       "        vertical-align: top;\n",
       "    }\n",
       "</style>\n",
       "<table border=\"1\" class=\"dataframe\">\n",
       "  <thead>\n",
       "    <tr style=\"text-align: right;\">\n",
       "      <th></th>\n",
       "      <th>reviewerID</th>\n",
       "      <th>asin</th>\n",
       "      <th>reviewerName</th>\n",
       "      <th>helpful</th>\n",
       "      <th>unixReviewTime</th>\n",
       "      <th>reviewText</th>\n",
       "      <th>overall</th>\n",
       "      <th>reviewTime</th>\n",
       "      <th>summary</th>\n",
       "      <th>vote_helpful</th>\n",
       "      <th>vote_overall</th>\n",
       "      <th>help_percent</th>\n",
       "      <th>review_helpful</th>\n",
       "      <th>polarity</th>\n",
       "      <th>sentiment</th>\n",
       "    </tr>\n",
       "  </thead>\n",
       "  <tbody>\n",
       "    <tr>\n",
       "      <th>12936</th>\n",
       "      <td>AWUMLV72KTL8O</td>\n",
       "      <td>B000002HAH</td>\n",
       "      <td>kabalabonga</td>\n",
       "      <td>[1, 1]</td>\n",
       "      <td>1268006400</td>\n",
       "      <td>Suggestive lyrics. Explicit lyrics. Lyrics en ...</td>\n",
       "      <td>5.0</td>\n",
       "      <td>03 8, 2010</td>\n",
       "      <td>Levitating Me for over 20 years</td>\n",
       "      <td>1</td>\n",
       "      <td>1</td>\n",
       "      <td>1.0</td>\n",
       "      <td>Yes</td>\n",
       "      <td>0.072917</td>\n",
       "      <td>Negative</td>\n",
       "    </tr>\n",
       "  </tbody>\n",
       "</table>\n",
       "</div>"
      ],
      "text/plain": [
       "          reviewerID        asin reviewerName helpful  unixReviewTime  \\\n",
       "12936  AWUMLV72KTL8O  B000002HAH  kabalabonga  [1, 1]      1268006400   \n",
       "\n",
       "                                              reviewText  overall  reviewTime  \\\n",
       "12936  Suggestive lyrics. Explicit lyrics. Lyrics en ...      5.0  03 8, 2010   \n",
       "\n",
       "                               summary  vote_helpful  vote_overall  \\\n",
       "12936  Levitating Me for over 20 years             1             1   \n",
       "\n",
       "       help_percent review_helpful  polarity sentiment  \n",
       "12936           1.0            Yes  0.072917  Negative  "
      ]
     },
     "execution_count": 13,
     "metadata": {},
     "output_type": "execute_result"
    }
   ],
   "source": [
    "df_video = df_video.fillna(0)\n",
    "df_video = shuffle(df_video)\n",
    "df_video[0:1]"
   ]
  },
  {
   "cell_type": "code",
   "execution_count": 14,
   "metadata": {},
   "outputs": [
    {
     "data": {
      "text/plain": [
       "Positive    26018\n",
       "Negative     3982\n",
       "Name: sentiment, dtype: int64"
      ]
     },
     "execution_count": 14,
     "metadata": {},
     "output_type": "execute_result"
    }
   ],
   "source": [
    "df_video['sentiment'].value_counts()"
   ]
  },
  {
   "cell_type": "code",
   "execution_count": 15,
   "metadata": {},
   "outputs": [
    {
     "data": {
      "image/png": "[encoded data removed]",
      "text/plain": [
       "<matplotlib.figure.Figure at 0x7fe8773749d0>"
      ]
     },
     "metadata": {},
     "output_type": "display_data"
    }
   ],
   "source": [
    "#Plots\n",
    "plt.hist(df_video.overall)\n",
    "plt.xlabel('overall Rating')\n",
    "plt.ylabel('Number of Reviwes')\n",
    "plt.show()"
   ]
  },
  {
   "cell_type": "code",
   "execution_count": 16,
   "metadata": {},
   "outputs": [
    {
     "data": {
      "image/png": "[encoded data removed]",
      "text/plain": [
       "<matplotlib.figure.Figure at 0x7fe877a49b50>"
      ]
     },
     "metadata": {},
     "output_type": "display_data"
    }
   ],
   "source": [
    "plt.hist(df_video.help_percent)\n",
    "plt.xlabel('Helpfulness Percent')\n",
    "plt.ylabel('Number of Reviwes')\n",
    "plt.show()"
   ]
  },
  {
   "cell_type": "code",
   "execution_count": 17,
   "metadata": {},
   "outputs": [
    {
     "data": {
      "text/plain": [
       "No     16253\n",
       "Yes    13747\n",
       "Name: review_helpful, dtype: int64"
      ]
     },
     "execution_count": 17,
     "metadata": {},
     "output_type": "execute_result"
    }
   ],
   "source": [
    "df_video['review_helpful'].value_counts()"
   ]
  },
  {
   "cell_type": "code",
   "execution_count": 18,
   "metadata": {},
   "outputs": [
    {
     "name": "stdout",
     "output_type": "stream",
     "text": [
      "('NUmber of reviews which are helpful and positive', 12378)\n",
      "('NUmber of reviews which are helpful and negative', 1369)\n"
     ]
    }
   ],
   "source": [
    "pos_cnt = 0\n",
    "neg_cnt = 0\n",
    "x = []\n",
    "y = []\n",
    "data_len = df_video.shape[0]\n",
    "for i in range(data_len):\n",
    "    if (df_video.review_helpful[i] == \"Yes\"):   \n",
    "        if (df_video.sentiment[i] == ('Positive')): \n",
    "             pos_cnt = pos_cnt + 1\n",
    "        else:\n",
    "             neg_cnt = neg_cnt + 1\n",
    "        \n",
    "y.append(pos_cnt)\n",
    "y.append(neg_cnt)\n",
    "x.append('1')\n",
    "x.append('0')\n",
    "print('NUmber of reviews which are helpful and positive', pos_cnt)\n",
    "print('NUmber of reviews which are helpful and negative', neg_cnt)"
   ]
  },
  {
   "cell_type": "code",
   "execution_count": 19,
   "metadata": {},
   "outputs": [
    {
     "name": "stdout",
     "output_type": "stream",
     "text": [
      "('NUmber of reviews which are not helpful and positive', 13640)\n",
      "('NUmber of reviews which are not helpful and negative', 2613)\n"
     ]
    }
   ],
   "source": [
    "pos_cnt = 0\n",
    "neg_cnt = 0\n",
    "x = []\n",
    "y = []\n",
    "data_len = df_video.shape[0]\n",
    "for i in range(data_len):\n",
    "    if (df_video.review_helpful[i] == \"No\"):   \n",
    "        if (df_video.sentiment[i] == ('Positive')): \n",
    "             pos_cnt = pos_cnt + 1\n",
    "        else:\n",
    "             neg_cnt = neg_cnt + 1\n",
    "        \n",
    "y.append(pos_cnt)\n",
    "y.append(neg_cnt)\n",
    "x.append('1')\n",
    "x.append('0')\n",
    "print('NUmber of reviews which are not helpful and positive', pos_cnt)\n",
    "print('NUmber of reviews which are not helpful and negative', neg_cnt)"
   ]
  },
  {
   "cell_type": "markdown",
   "metadata": {},
   "source": [
    "# Infer sentiment from review"
   ]
  },
  {
   "cell_type": "code",
   "execution_count": 20,
   "metadata": {},
   "outputs": [
    {
     "name": "stdout",
     "output_type": "stream",
     "text": [
      "(6000,)\n"
     ]
    }
   ],
   "source": [
    "tr_x, ts_x, tr_y, ts_y = train_test_split(df_video['reviewText'], df_video['sentiment'], test_size=0.2, random_state=0)\n",
    "print ts_x.shape"
   ]
  },
  {
   "cell_type": "code",
   "execution_count": 21,
   "metadata": {},
   "outputs": [
    {
     "name": "stdout",
     "output_type": "stream",
     "text": [
      "(6000, 67030)\n"
     ]
    }
   ],
   "source": [
    "vectorizer = TfidfVectorizer(norm = 'l2',min_df = 0, use_idf = True, smooth_idf = False, sublinear_tf = True)\n",
    "tr_x_fit = vectorizer.fit_transform(tr_x)\n",
    "ts_x_fit = vectorizer.transform(ts_x)\n",
    "print(ts_x_fit.shape)"
   ]
  },
  {
   "cell_type": "markdown",
   "metadata": {},
   "source": [
    "# Logistic Regression"
   ]
  },
  {
   "cell_type": "code",
   "execution_count": 22,
   "metadata": {},
   "outputs": [
    {
     "name": "stdout",
     "output_type": "stream",
     "text": [
      "('cross_validation scores', array([ 0.87694444,  0.88472222,  0.87736111,  0.87944444,  0.88097222]))\n",
      "('Accuracy of prediction - Logistic Regression', 0.88683333333333336)\n"
     ]
    },
    {
     "name": "stderr",
     "output_type": "stream",
     "text": [
      "/home/ss/anaconda2/lib/python2.7/site-packages/numpy/core/fromnumeric.py:57: FutureWarning: reshape is deprecated and will raise in a subsequent release. Please use .values.reshape(...) instead\n",
      "  return getattr(obj, method)(*args, **kwds)\n"
     ]
    }
   ],
   "source": [
    "cls = LogisticRegression()\n",
    "\n",
    "#CROSS VALIDATION\n",
    "cv1 = ShuffleSplit(n_splits=5, test_size = 0.3, random_state=0)\n",
    "scores = cross_val_score(cls, tr_x_fit, tr_y, cv=cv1)\n",
    "print ('cross_validation scores', scores)\n",
    "\n",
    "#\n",
    "cls.fit(tr_x_fit, tr_y)\n",
    "pred = cls.predict(ts_x_fit)\n",
    "ts_y = np.reshape(ts_y, (-1,1))\n",
    "pred = np.reshape(pred, (-1,1))\n",
    "print('Accuracy of prediction - Logistic Regression', accuracy_score(ts_y, pred))"
   ]
  },
  {
   "cell_type": "markdown",
   "metadata": {
    "collapsed": true
   },
   "source": [
    "# Naive Bayes"
   ]
  },
  {
   "cell_type": "code",
   "execution_count": 23,
   "metadata": {
    "collapsed": true
   },
   "outputs": [],
   "source": [
    "from sklearn.naive_bayes import BernoulliNB\n",
    "from sklearn.naive_bayes import MultinomialNB"
   ]
  },
  {
   "cell_type": "code",
   "execution_count": 24,
   "metadata": {},
   "outputs": [
    {
     "name": "stdout",
     "output_type": "stream",
     "text": [
      "('cross_validation scores', array([ 0.86444444,  0.87347222,  0.86541667,  0.86763889,  0.86930556]))\n",
      "('Accuracy of prediction - NaiveBayes', 86.7)\n"
     ]
    }
   ],
   "source": [
    "cls = MultinomialNB()\n",
    "#CROSS VALIDATION\n",
    "cv1 = ShuffleSplit(n_splits=5, test_size = 0.3, random_state=0)\n",
    "scores = cross_val_score(cls, tr_x_fit, tr_y, cv=cv1)\n",
    "print ('cross_validation scores', scores)\n",
    "#\n",
    "cls.fit(tr_x_fit, tr_y)\n",
    "pred = cls.predict(ts_x_fit)\n",
    "ts_y = np.reshape(ts_y, (-1,1))\n",
    "pred = np.reshape(pred, (-1,1))\n",
    "acc = accuracy_score(ts_y, pred)*100\n",
    "print('Accuracy of prediction - NaiveBayes', round(acc,2))"
   ]
  },
  {
   "cell_type": "markdown",
   "metadata": {},
   "source": [
    "# Decision Tree"
   ]
  },
  {
   "cell_type": "code",
   "execution_count": 25,
   "metadata": {},
   "outputs": [
    {
     "name": "stdout",
     "output_type": "stream",
     "text": [
      "('cross_validation scores', array([ 0.83625   ,  0.83277778,  0.82930556,  0.82805556,  0.82847222]))\n",
      "('Accuracy of prediction - Decision Tree', 83.07)\n"
     ]
    }
   ],
   "source": [
    "from sklearn import tree\n",
    "cls = tree.DecisionTreeClassifier()\n",
    "#CROSS VALIDATION\n",
    "cv1 = ShuffleSplit(n_splits=5, test_size = 0.3, random_state=0)\n",
    "scores = cross_val_score(cls, tr_x_fit, tr_y, cv=cv1)\n",
    "print ('cross_validation scores', scores)\n",
    "#\n",
    "cls.fit(tr_x_fit, tr_y)\n",
    "pred = cls.predict(ts_x_fit)\n",
    "ts_y = np.reshape(ts_y, (-1,1))\n",
    "pred = np.reshape(pred, (-1,1))\n",
    "acc = accuracy_score(ts_y, pred)*100\n",
    "print('Accuracy of prediction - Decision Tree', round(acc,2))"
   ]
  },
  {
   "cell_type": "markdown",
   "metadata": {},
   "source": [
    "# Adaboost classifier"
   ]
  },
  {
   "cell_type": "code",
   "execution_count": 28,
   "metadata": {},
   "outputs": [
    {
     "name": "stdout",
     "output_type": "stream",
     "text": [
      "('cross_validation scores', array([ 0.89263889,  0.90208333,  0.90652778,  0.89208333,  0.89083333]))\n",
      "('Accuracy of prediction - Adaboost', 89.93)\n"
     ]
    }
   ],
   "source": [
    "from sklearn.ensemble import AdaBoostClassifier\n",
    "cls = AdaBoostClassifier(n_estimators=100)\n",
    "#CROSS VALIDATION\n",
    "cv1 = ShuffleSplit(n_splits=5, test_size = 0.3, random_state=0)\n",
    "scores = cross_val_score(cls, tr_x_fit, tr_y, cv=cv1)\n",
    "print ('cross_validation scores', scores)\n",
    "#\n",
    "cls.fit(tr_x_fit, tr_y)\n",
    "pred = cls.predict(ts_x_fit)\n",
    "ts_y = np.reshape(ts_y, (-1,1))\n",
    "pred = np.reshape(pred, (-1,1))\n",
    "acc = accuracy_score(ts_y, pred)*100\n",
    "print('Accuracy of prediction - Adaboost', round(acc,2))"
   ]
  },
  {
   "cell_type": "markdown",
   "metadata": {},
   "source": [
    "# RandomClassifier"
   ]
  },
  {
   "cell_type": "code",
   "execution_count": 29,
   "metadata": {},
   "outputs": [
    {
     "name": "stdout",
     "output_type": "stream",
     "text": [
      "('cross_validation scores', array([ 0.86944444,  0.87388889,  0.87097222,  0.86819444,  0.86361111]))\n",
      "('Accuracy of prediction - RanDomForest', 87.23)\n"
     ]
    }
   ],
   "source": [
    "from sklearn.ensemble import RandomForestClassifier\n",
    "cls = RandomForestClassifier(n_estimators=10)\n",
    "#CROSS VALIDATION\n",
    "cv1 = ShuffleSplit(n_splits=5, test_size = 0.3, random_state=0)\n",
    "scores = cross_val_score(cls, tr_x_fit, tr_y, cv=cv1)\n",
    "print ('cross_validation scores', scores)\n",
    "#\n",
    "cls.fit(tr_x_fit, tr_y)\n",
    "pred = cls.predict(ts_x_fit)\n",
    "ts_y = np.reshape(ts_y, (-1,1))\n",
    "pred = np.reshape(pred, (-1,1))\n",
    "acc = accuracy_score(ts_y, pred)*100\n",
    "print('Accuracy of prediction - RanDomForest', round(acc,2))"
   ]
  },
  {
   "cell_type": "markdown",
   "metadata": {},
   "source": [
    "# Multilayer perceptron"
   ]
  },
  {
   "cell_type": "code",
   "execution_count": 26,
   "metadata": {},
   "outputs": [
    {
     "name": "stdout",
     "output_type": "stream",
     "text": [
      "('cross_validation scores', array([ 0.90902778,  0.91083333,  0.90986111,  0.90944444,  0.90916667]))\n",
      "('Accuracy of prediction - Multilayer Perceptron', 91.25)\n"
     ]
    }
   ],
   "source": [
    "from sklearn.neural_network import MLPClassifier\n",
    "cls = MLPClassifier(solver='lbfgs', alpha=1e-5, hidden_layer_sizes=(120, 120), random_state=1)\n",
    "#CROSS VALIDATION\n",
    "cv1 = ShuffleSplit(n_splits=5, test_size = 0.3, random_state=0)\n",
    "scores = cross_val_score(cls, tr_x_fit, tr_y, cv=cv1)\n",
    "print ('cross_validation scores', scores)\n",
    "#\n",
    "cls.fit(tr_x_fit, tr_y)\n",
    "pred = cls.predict(ts_x_fit)\n",
    "ts_y = np.reshape(ts_y, (-1,1))\n",
    "pred = np.reshape(pred, (-1,1))\n",
    "acc = accuracy_score(ts_y, pred)*100\n",
    "print('Accuracy of prediction - Multilayer Perceptron', round(acc,2))"
   ]
  },
  {
   "cell_type": "code",
   "execution_count": 27,
   "metadata": {},
   "outputs": [
    {
     "name": "stdout",
     "output_type": "stream",
     "text": [
      "('cross_validation scores', array([ 0.89680556,  0.90875   ,  0.90791667,  0.90972222,  0.90847222]))\n",
      "('Accuracy of prediction - Multilayer Perceptron', 90.97)\n"
     ]
    }
   ],
   "source": [
    "from sklearn.neural_network import MLPClassifier\n",
    "cls = MLPClassifier(solver='lbfgs', alpha=1e-5, hidden_layer_sizes=(10, 10), random_state=1)\n",
    "#CROSS VALIDATION\n",
    "cv1 = ShuffleSplit(n_splits=5, test_size = 0.3, random_state=0)\n",
    "scores = cross_val_score(cls, tr_x_fit, tr_y, cv=cv1)\n",
    "print ('cross_validation scores', scores)\n",
    "#\n",
    "cls.fit(tr_x_fit, tr_y)\n",
    "pred = cls.predict(ts_x_fit)\n",
    "ts_y = np.reshape(ts_y, (-1,1))\n",
    "pred = np.reshape(pred, (-1,1))\n",
    "acc = accuracy_score(ts_y, pred)*100\n",
    "print('Accuracy of prediction - Multilayer Perceptron', round(acc,2))"
   ]
  },
  {
   "cell_type": "code",
   "execution_count": 28,
   "metadata": {},
   "outputs": [
    {
     "name": "stdout",
     "output_type": "stream",
     "text": [
      "('cross_validation scores', array([ 0.90902778,  0.90916667,  0.90944444,  0.90888889,  0.90625   ]))\n",
      "('Accuracy of prediction - Multilayer Perceptron', 91.47)\n"
     ]
    }
   ],
   "source": [
    "from sklearn.neural_network import MLPClassifier\n",
    "cls = MLPClassifier(solver='lbfgs', alpha=1e-5, hidden_layer_sizes=(10), random_state=1)\n",
    "#CROSS VALIDATION\n",
    "cv1 = ShuffleSplit(n_splits=5, test_size = 0.3, random_state=0)\n",
    "scores = cross_val_score(cls, tr_x_fit, tr_y, cv=cv1)\n",
    "print ('cross_validation scores', scores)\n",
    "#\n",
    "cls.fit(tr_x_fit, tr_y)\n",
    "pred = cls.predict(ts_x_fit)\n",
    "ts_y = np.reshape(ts_y, (-1,1))\n",
    "pred = np.reshape(pred, (-1,1))\n",
    "acc = accuracy_score(ts_y, pred)*100\n",
    "print('Accuracy of prediction - Multilayer Perceptron', round(acc,2))"
   ]
  },
  {
   "cell_type": "code",
   "execution_count": 29,
   "metadata": {},
   "outputs": [
    {
     "name": "stdout",
     "output_type": "stream",
     "text": [
      "('cross_validation scores', array([ 0.90930556,  0.90819444,  0.90888889,  0.90944444,  0.90861111]))\n",
      "('Accuracy of prediction - Multilayer Perceptron', 91.33)\n"
     ]
    }
   ],
   "source": [
    "from sklearn.neural_network import MLPClassifier\n",
    "cls = MLPClassifier(solver='lbfgs', alpha=1e-5, hidden_layer_sizes=(120), random_state=1)\n",
    "#CROSS VALIDATION\n",
    "cv1 = ShuffleSplit(n_splits=5, test_size = 0.3, random_state=0)\n",
    "scores = cross_val_score(cls, tr_x_fit, tr_y, cv=cv1)\n",
    "print ('cross_validation scores', scores)\n",
    "#\n",
    "cls.fit(tr_x_fit, tr_y)\n",
    "pred = cls.predict(ts_x_fit)\n",
    "ts_y = np.reshape(ts_y, (-1,1))\n",
    "pred = np.reshape(pred, (-1,1))\n",
    "acc = accuracy_score(ts_y, pred)*100\n",
    "print('Accuracy of prediction - Multilayer Perceptron', round(acc,2))"
   ]
  },
  {
   "cell_type": "code",
   "execution_count": 30,
   "metadata": {},
   "outputs": [
    {
     "name": "stdout",
     "output_type": "stream",
     "text": [
      "('cross_validation scores', array([ 0.90638889,  0.91138889,  0.90986111,  0.91027778,  0.90666667]))\n",
      "('Accuracy of prediction - Multilayer Perceptron', 91.18)\n"
     ]
    }
   ],
   "source": [
    "from sklearn.neural_network import MLPClassifier\n",
    "cls = MLPClassifier(solver='lbfgs', alpha=1e-5, hidden_layer_sizes=(10,10,10), random_state=1)\n",
    "#CROSS VALIDATION\n",
    "cv1 = ShuffleSplit(n_splits=5, test_size = 0.3, random_state=0)\n",
    "scores = cross_val_score(cls, tr_x_fit, tr_y, cv=cv1)\n",
    "print ('cross_validation scores', scores)\n",
    "#\n",
    "cls.fit(tr_x_fit, tr_y)\n",
    "pred = cls.predict(ts_x_fit)\n",
    "ts_y = np.reshape(ts_y, (-1,1))\n",
    "pred = np.reshape(pred, (-1,1))\n",
    "acc = accuracy_score(ts_y, pred)*100\n",
    "print('Accuracy of prediction - Multilayer Perceptron', round(acc,2))"
   ]
  },
  {
   "cell_type": "code",
   "execution_count": 31,
   "metadata": {},
   "outputs": [
    {
     "name": "stdout",
     "output_type": "stream",
     "text": [
      "('cross_validation scores', array([ 0.90763889,  0.9125    ,  0.91      ,  0.90847222,  0.90527778]))\n",
      "('Accuracy of prediction - Multilayer Perceptron', 91.77)\n"
     ]
    }
   ],
   "source": [
    "from sklearn.neural_network import MLPClassifier\n",
    "cls = MLPClassifier(solver='lbfgs', alpha=1e-5, hidden_layer_sizes=(120,120,120), random_state=1)\n",
    "#CROSS VALIDATION\n",
    "cv1 = ShuffleSplit(n_splits=5, test_size = 0.3, random_state=0)\n",
    "scores = cross_val_score(cls, tr_x_fit, tr_y, cv=cv1)\n",
    "print ('cross_validation scores', scores)\n",
    "#\n",
    "cls.fit(tr_x_fit, tr_y)\n",
    "pred = cls.predict(ts_x_fit)\n",
    "ts_y = np.reshape(ts_y, (-1,1))\n",
    "pred = np.reshape(pred, (-1,1))\n",
    "acc = accuracy_score(ts_y, pred)*100\n",
    "print('Accuracy of prediction - Multilayer Perceptron', round(acc,2))"
   ]
  },
  {
   "cell_type": "code",
   "execution_count": null,
   "metadata": {
    "collapsed": true
   },
   "outputs": [],
   "source": []
  }
 ],
 "metadata": {
  "kernelspec": {
   "display_name": "Python 2",
   "language": "python",
   "name": "python2"
  },
  "language_info": {
   "codemirror_mode": {
    "name": "ipython",
    "version": 2
   },
   "file_extension": ".py",
   "mimetype": "text/x-python",
   "name": "python",
   "nbconvert_exporter": "python",
   "pygments_lexer": "ipython2",
   "version": "2.7.13"
  }
 },
 "nbformat": 4,
 "nbformat_minor": 2
}
